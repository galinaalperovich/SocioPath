{
 "cells": [
  {
   "cell_type": "code",
   "execution_count": 10,
   "metadata": {
    "collapsed": true
   },
   "outputs": [],
   "source": [
    "import warnings\n",
    "warnings.filterwarnings('ignore')"
   ]
  },
  {
   "cell_type": "code",
   "execution_count": 11,
   "metadata": {
    "collapsed": false
   },
   "outputs": [],
   "source": [
    "from sklearn.cross_validation import train_test_split\n",
    "from sklearn.ensemble import RandomForestClassifier\n",
    "from sklearn.preprocessing import OneHotEncoder, LabelEncoder\n",
    "\n",
    "import pandas as pd\n",
    "import numpy as np\n",
    "import os"
   ]
  },
  {
   "cell_type": "code",
   "execution_count": 12,
   "metadata": {
    "collapsed": true
   },
   "outputs": [],
   "source": [
    "import matplotlib.pyplot as plt"
   ]
  },
  {
   "cell_type": "code",
   "execution_count": 13,
   "metadata": {
    "collapsed": true
   },
   "outputs": [],
   "source": [
    "def clean_df(df):\n",
    "    new_df = df.drop_duplicates()\n",
    "    new_df = new_df[new_df['tag'] != 'meta']\n",
    "    new_df = new_df[new_df['x_coords'] != '0']\n",
    "    new_df = new_df[new_df['x_coords'] != 0]\n",
    "    return new_df"
   ]
  },
  {
   "cell_type": "code",
   "execution_count": 14,
   "metadata": {
    "collapsed": true
   },
   "outputs": [],
   "source": [
    "def get_XY(field, no_field, no_column_name):\n",
    "    no_field_smpl = no_field.sample(n = field.shape[0], random_state=7)\n",
    "    real_train_meta_name = no_field_smpl.meta_name \n",
    "    no_field_smpl = no_field_smpl.drop('meta_name', 1)\n",
    "    no_field_smpl.insert(1, 'meta_name', no_column_name)\n",
    "    X_field = pd.concat((field, no_field_smpl), axis=0)\n",
    "    y_field = X_field['meta_name']\n",
    "    X_field = X_field.drop('meta_name', 1)\n",
    "    X_field = X_field.replace('none', 'NA')\n",
    "    le = LabelEncoder()\n",
    "    le_tag = le.fit_transform(X_field.tag.values)\n",
    "    X_field.loc[:,'tag'] = le_tag\n",
    "    return X_field, y_field, real_train_meta_name, le"
   ]
  },
  {
   "cell_type": "code",
   "execution_count": 15,
   "metadata": {
    "collapsed": true
   },
   "outputs": [],
   "source": [
    "def draw_feature_importance(clf_forest, X_train, field_name):\n",
    "    importances = clf_forest.feature_importances_\n",
    "    std = np.std([tree.feature_importances_ for tree in clf_forest.estimators_],\n",
    "                 axis=0)\n",
    "    indices = np.argsort(importances)[::-1]\n",
    "\n",
    "    # Print the feature ranking\n",
    "    print(\"Feature ranking:\")\n",
    "\n",
    "    for f in range(X_train.shape[1]):\n",
    "        print(\"%d. feature '%s' (%f)\" % (indices[f], X_train.columns[indices[f]], importances[indices[f]]))\n",
    "\n",
    "    # Plot the feature importances of the forest\n",
    "    plt.figure()\n",
    "    plt.title(\"Feature importances for {}\".format(field_name))\n",
    "    plt.bar(range(X_train.shape[1]), importances[indices],\n",
    "           color=\"r\", yerr=std[indices], align=\"center\")\n",
    "    plt.xticks(range(X_train.shape[1]), indices)\n",
    "    plt.xlim([-1, X_train.shape[1]])\n",
    "    plt.show()"
   ]
  },
  {
   "cell_type": "code",
   "execution_count": 16,
   "metadata": {
    "collapsed": true
   },
   "outputs": [],
   "source": [
    "def perform_analysis_of_field(field_name, clf, data, clean=False):\n",
    "    # choose field and no_field for negative examples and clean\n",
    "    df_pos = clean_df(data[data['meta_name'] == field_name])\n",
    "    df_neg = clean_df(data[data['meta_name'] != field_name])\n",
    "    X, y, real_meta, tag_le = get_XY(df_pos, df_neg, 'no_' + field_name)\n",
    "    X = X[['x_coords','y_coords','block_height','block_width','num_siblings']]\n",
    "    X['y'] = y\n",
    "    X = X.convert_objects(convert_numeric=True).dropna()\n",
    "    y = X['y']\n",
    "    X = X.drop('y', 1)\n",
    "    X_train, X_test, y_train, y_test = train_test_split(X, y, test_size=0.33, random_state=7)\n",
    "    clf.fit(X_train, y_train)\n",
    "    print(\"train: {}, test: {}\".format(clf.score(X_train, y_train), clf.score(X_test, y_test)))\n",
    "    draw_feature_importance(clf, X_train, field_name)"
   ]
  },
  {
   "cell_type": "code",
   "execution_count": null,
   "metadata": {
    "collapsed": true
   },
   "outputs": [],
   "source": []
  },
  {
   "cell_type": "code",
   "execution_count": null,
   "metadata": {
    "collapsed": true
   },
   "outputs": [],
   "source": []
  }
 ],
 "metadata": {
  "anaconda-cloud": {},
  "kernelspec": {
   "display_name": "Python [conda env:py35]",
   "language": "python",
   "name": "conda-env-py35-py"
  },
  "language_info": {
   "codemirror_mode": {
    "name": "ipython",
    "version": 3
   },
   "file_extension": ".py",
   "mimetype": "text/x-python",
   "name": "python",
   "nbconvert_exporter": "python",
   "pygments_lexer": "ipython3",
   "version": "3.5.2"
  }
 },
 "nbformat": 4,
 "nbformat_minor": 1
}
